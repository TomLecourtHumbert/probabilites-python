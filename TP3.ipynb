{
 "cells": [
  {
   "cell_type": "markdown",
   "id": "b1ef1cb5",
   "metadata": {},
   "source": [
    "# Indépendance et conditionnement"
   ]
  },
  {
   "cell_type": "markdown",
   "id": "04b26933",
   "metadata": {},
   "source": [
    "## Indépendance"
   ]
  },
  {
   "cell_type": "markdown",
   "id": "33af84bf",
   "metadata": {},
   "source": [
    "### Exercice pratique"
   ]
  },
  {
   "cell_type": "markdown",
   "id": "b3a84a6a",
   "metadata": {},
   "source": [
    "1. Une urne contient 12 boules numérotées de 1 à 12. On en tire une hasard, et on considère les événements :\n",
    "\n",
    "A = « tirage d’un nombre pair »,\n",
    "\n",
    "B = « tirage d’un multiple de 3 ».\n",
    "\n",
    "Les événements A et B sont-ils indépendants ? (pour le savoir déterminer P(A), P(B) et P(A n B) en examinant toutes les issues)\n",
    "\n",
    "2. Reprendre la question avec une urne contenant 13 boules.\n",
    "\n",
    "Remarque : si on souhaite utiliser une approche par simulation, on se heurte à une complication liée à l’approximation ; il est peu probable qu’on obtienne une égalité."
   ]
  },
  {
   "cell_type": "code",
   "execution_count": 5,
   "id": "ff2f5b56",
   "metadata": {},
   "outputs": [
    {
     "name": "stdout",
     "output_type": "stream",
     "text": [
      "True\n",
      "False\n"
     ]
    }
   ],
   "source": [
    "def boules(nb):\n",
    "    boules=[]\n",
    "    for i in range(1,nb+1):\n",
    "        boules.append(i)\n",
    "        \n",
    "    A = 0\n",
    "    for y in boules:\n",
    "        if y%2 == 0:\n",
    "            A += 1\n",
    "    A = A / len(boules)\n",
    "    \n",
    "    B = 0\n",
    "    for y2 in boules:\n",
    "        if y2%3 == 0:\n",
    "            B += 1\n",
    "    B = B / len(boules)\n",
    "    \n",
    "    AB = 0\n",
    "    for y3 in boules:\n",
    "        if y3%2 == 0 and y3%3 == 0:\n",
    "            AB += 1\n",
    "    AB = AB / len(boules)\n",
    "    \n",
    "    if (A * B == AB):\n",
    "        res = True\n",
    "    else:\n",
    "        res = False\n",
    "    return res\n",
    "\n",
    "print(boules(12))\n",
    "print(boules(13))"
   ]
  },
  {
   "cell_type": "markdown",
   "id": "6bf686e4",
   "metadata": {},
   "source": [
    "## Conditionnement"
   ]
  },
  {
   "cell_type": "code",
   "execution_count": 6,
   "id": "98bf9798",
   "metadata": {},
   "outputs": [
    {
     "name": "stdout",
     "output_type": "stream",
     "text": [
      "[10, 7, 2, 4, 8]\n",
      "[9, 9, 8, 2, 1, 7, 5, 1, 2, 4, 4, 1, 4, 2, 6]\n"
     ]
    }
   ],
   "source": [
    "import random\n",
    "print(random.sample([1, 2, 3, 4, 5, 6, 7, 8, 9, 10],5))\n",
    "print(random.choices([1, 2, 3, 4, 5, 6, 7, 8, 9, 10],k=15))"
   ]
  },
  {
   "cell_type": "markdown",
   "id": "0622bfdc",
   "metadata": {},
   "source": [
    "### Exercice pratique : des dès et des sommes de dès"
   ]
  },
  {
   "cell_type": "markdown",
   "id": "06ead36f",
   "metadata": {},
   "source": [
    "On considère le jeu suivant. On jette quatre dés et on dissimule le résultat. Le joueur doit parier sur le fait qu’il y a au moins deux 6 parmi les valeurs affichées par les dés.\n",
    "\n",
    "- Écrire une fonction probA(nbsim) qui estime la probabilité que cet événement a de survenir (nbsim)\n",
    "\n",
    "On sait maintenant que la somme de ces dés vaut 18.\n",
    "\n",
    "- Écrire une fonction probAsachantB(nbsim) qui estime la probabilité qu’il y ait au moins deux 6 sachant que la somme vaut 18.\n"
   ]
  },
  {
   "cell_type": "code",
   "execution_count": 7,
   "id": "c4876616",
   "metadata": {},
   "outputs": [
    {
     "name": "stdout",
     "output_type": "stream",
     "text": [
      "0.13207\n",
      "0.3753\n"
     ]
    }
   ],
   "source": [
    "def probA(nbsim):\n",
    "    compte = 0\n",
    "    for i in range(nbsim):\n",
    "        lances = random.choices([1, 2, 3, 4, 5, 6],k=4)\n",
    "        lances = sorted(lances)\n",
    "        if lances[3] == 6 and lances[2] == 6:\n",
    "            compte += 1\n",
    "    return compte / nbsim\n",
    "\n",
    "print(probA(100000))\n",
    "\n",
    "def probAsachantB(nbsim):\n",
    "    compte = 0\n",
    "    somme_l=0\n",
    "    for i in range(nbsim):\n",
    "        while somme_l != 18:\n",
    "            lances = random.choices([1, 2, 3, 4, 5, 6],k=4)\n",
    "            somme_l=0\n",
    "            for l in lances:\n",
    "                somme_l+=l\n",
    "        lances = sorted(lances)\n",
    "        if lances[3] == 6 and lances[2] == 6:\n",
    "            compte += 1\n",
    "        somme_l = 0\n",
    "    return compte / nbsim\n",
    "\n",
    "print(probAsachantB(100000))"
   ]
  },
  {
   "cell_type": "markdown",
   "id": "dadcb103",
   "metadata": {},
   "source": [
    "### Exercice pratique : Ali Babal"
   ]
  },
  {
   "cell_type": "markdown",
   "id": "f11bed16",
   "metadata": {},
   "source": [
    "Le sultan dit à Ali Baba:\n",
    "\n",
    "« Voici 2 urnes, 4 boules blanches et 4 boules noires. Répartis les boules dans les urnes, mais je rendrai ensuite les urnes indiscernables. Tu auras la vie sauve en tirant une boule blanche.»\n",
    "\n",
    "1. Ali Baba place les 4 boules blanches dans la première urne et les 4 noires dans la seconde. Écrire une fonction qui simule aléatoirement le choix d’Ali Baba. Répéter cette expérience pour estimer sa probabilité de survie (vous prendrez soin de passer la répartition des boules dans les urnes en paramètres de votre fonction)\n",
    "\n",
    "\n",
    "2. Quelle est la probabilité de survie avec 2b+2n dans la première urne et 2b+2n dans la seconde ?\n",
    "\n",
    "\n",
    "3. Déterminer la répartition optimale (qui maximise les chances de survie)\n",
    "\n",
    "\n",
    "(Les réponses exactes sont dans le TD associé)"
   ]
  },
  {
   "cell_type": "code",
   "execution_count": 39,
   "id": "d2b7dfcc",
   "metadata": {},
   "outputs": [
    {
     "name": "stdout",
     "output_type": "stream",
     "text": [
      "(0.50077, 'chances de survie')\n",
      "(0.50194, 'chances de survie')\n",
      "(0.46849, 'chances de survie')\n",
      "(0.40376, 'chances de survie')\n",
      "(0.49887, 'chances de survie')\n",
      "(0.71381, 'chances de survie')\n"
     ]
    }
   ],
   "source": [
    "def Ali(urne1,urne2,nbsim):\n",
    "    compte = 0\n",
    "    for i in range(nbsim):\n",
    "        chx_urne = random.randint(1,2)\n",
    "        if chx_urne == 1:\n",
    "            random_index = random.randint(0,len(urne1)-1)\n",
    "            result = urne1[random_index]\n",
    "        else:\n",
    "            random_index = random.randint(0,len(urne2)-1)\n",
    "            result = urne2[random_index]\n",
    "        if result == 'b':\n",
    "            compte += 1\n",
    "    return compte / nbsim, \"chances de survie\"\n",
    "\n",
    "print(Ali(['b','b','b','b'],['n','n','n','n'], 100000))\n",
    "print(Ali(['b','b','n','n'],['b','b','n','n'], 100000))\n",
    "print(Ali(['b','b','b','n','n'],['n','n','b'], 100000))\n",
    "print(Ali(['b','b','b','b','n'],['n','n','n'], 100000))\n",
    "print(Ali(['b','b','b','n','n','n'],['n','b'], 100000))\n",
    "#Répartition optimale\n",
    "print(Ali(['b','b','b','n','n','n','n'],['b'], 100000))"
   ]
  },
  {
   "cell_type": "markdown",
   "id": "46a838f4",
   "metadata": {},
   "source": [
    "### Exercice pratique : Bayes aux corneilles"
   ]
  },
  {
   "cell_type": "code",
   "execution_count": 2,
   "id": "0d5a9c4a",
   "metadata": {},
   "outputs": [
    {
     "name": "stdout",
     "output_type": "stream",
     "text": [
      "['a' 'a' 'a' 'a' 'a' 'a' 'b' 'a' 'b' 'a']\n"
     ]
    }
   ],
   "source": [
    "import numpy as np\n",
    "tirage = np.random.choice(['a','b'], 10, replace = True, p=[0.75,0.25])\n",
    "print(tirage)"
   ]
  },
  {
   "cell_type": "markdown",
   "id": "96754be7",
   "metadata": {},
   "source": [
    "Vous venez de passer un test de dépistage de la mathématite. Cette méchante allergie aux mathématiques provoque des somnolences en travaux dirigés. Elle est toutefois très rare puisqu’elle ne touche que 0,1% de la population, et on la confond parfois avec de la paresse ou à un syndrôme du vendredi matin.\n",
    "\n",
    "Votre intervenant de TD vous annonce la mauvaise nouvelle : le test est positif. Animé par un sens critique très développé, vous décidez de vous intéresser à la fiabilité de ce test.\n",
    "\n",
    "Les laboratoires Chalençon-Coutant-Rouyer qui ont mis au point ce test de dépistage, annoncent les taux de réussite suivants :\n",
    "\n",
    "« Si vous avez effectivement la mathématite, le test sera positif dans 90% des cas. Si vous ne l’avez pas, il sera négatif dans 97% des cas »\n",
    "\n",
    "Vous accusez le coup mais décidez tout de même de calculer la probabilité que vous soyez réellement atteint de cette allergie.\n",
    "\n",
    "Écrire une fonction de simulation qui estime cette probabilité."
   ]
  },
  {
   "cell_type": "code",
   "execution_count": 37,
   "id": "f60efa01",
   "metadata": {},
   "outputs": [
    {
     "name": "stdout",
     "output_type": "stream",
     "text": [
      "0.029670687968699056\n"
     ]
    }
   ],
   "source": [
    "def proba_malade(nbsim):\n",
    "    comptePos = 0\n",
    "    compteMetPos = 0\n",
    "    tirage = np.random.choice(['bien','malade'], nbsim, replace = True, p=[0.999,0.001])\n",
    "    for i in tirage:\n",
    "        if i == 'malade':\n",
    "            test = random.randint(1,10)\n",
    "            if test != 1:\n",
    "                comptePos += 1\n",
    "                compteMetPos += 1\n",
    "        else:\n",
    "            test = random.randint(1,100)\n",
    "            if test == 1 or test == 2 or test == 3:\n",
    "                comptePos += 1\n",
    "    return compteMetPos / comptePos\n",
    "                \n",
    "# On cherche P_Pos_(Malade) = P(Malade et Pos) / P(Pos)\n",
    "    \n",
    "print(proba_malade(100000))"
   ]
  },
  {
   "cell_type": "code",
   "execution_count": 38,
   "id": "15d6b3cb",
   "metadata": {},
   "outputs": [
    {
     "data": {
      "text/plain": [
       "0.02915451895043732"
      ]
     },
     "execution_count": 38,
     "metadata": {},
     "output_type": "execute_result"
    }
   ],
   "source": [
    "#Probabilité exacte\n",
    "0.9*0.001/(0.9*0.001+0.03*0.999)"
   ]
  },
  {
   "cell_type": "code",
   "execution_count": null,
   "id": "9f8cb620",
   "metadata": {},
   "outputs": [],
   "source": []
  }
 ],
 "metadata": {
  "kernelspec": {
   "display_name": "Python 3 (ipykernel)",
   "language": "python",
   "name": "python3"
  },
  "language_info": {
   "codemirror_mode": {
    "name": "ipython",
    "version": 3
   },
   "file_extension": ".py",
   "mimetype": "text/x-python",
   "name": "python",
   "nbconvert_exporter": "python",
   "pygments_lexer": "ipython3",
   "version": "3.8.10"
  }
 },
 "nbformat": 4,
 "nbformat_minor": 5
}
