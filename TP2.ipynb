{
 "cells": [
  {
   "cell_type": "markdown",
   "id": "453ee1f1",
   "metadata": {},
   "source": [
    "# TP2"
   ]
  },
  {
   "cell_type": "markdown",
   "id": "69a2cc1a",
   "metadata": {},
   "source": [
    "## Introduction"
   ]
  },
  {
   "cell_type": "markdown",
   "id": "eafa6252",
   "metadata": {},
   "source": [
    "Exemple :\n",
    "\n",
    "On s’intéresse à l’expérience aléatoire suivante : « jet de deux dés non pipés ». On veut déterminer la probabilité de l’événement A : « obtenir un double, ou deux entiers consécutifs ».\n",
    "\n",
    "Nous allons simuler l’expérience aléatoire sous la forme d’un fonction :"
   ]
  },
  {
   "cell_type": "code",
   "execution_count": 226,
   "id": "7c1f593b",
   "metadata": {},
   "outputs": [
    {
     "name": "stdout",
     "output_type": "stream",
     "text": [
      "(5, 4)\n"
     ]
    }
   ],
   "source": [
    "import random\n",
    "def jet2d():\n",
    "  de1 = random.choice([1,2,3,4,5,6])\n",
    "  de2 = random.choice([1,2,3,4,5,6])\n",
    "  return (de1,de2)\n",
    "realisation = jet2d()\n",
    "print(realisation)"
   ]
  },
  {
   "cell_type": "markdown",
   "id": "993621d1",
   "metadata": {},
   "source": [
    "La réalisation de l’expérience est-elle favorable à l’événement A ? On peut écrire une fonction pour tester la réalisation et répondre à cette question :"
   ]
  },
  {
   "cell_type": "code",
   "execution_count": 2,
   "id": "2c4d358b",
   "metadata": {},
   "outputs": [
    {
     "name": "stdout",
     "output_type": "stream",
     "text": [
      "False\n"
     ]
    }
   ],
   "source": [
    "def testA(des):\n",
    "  d1 = des[0]\n",
    "  d2 = des[1]\n",
    "  res = (d1 == d2 or d2 == d1 + 1 or d1 == d2+1)\n",
    "  return res\n",
    "\n",
    "resTest = testA(realisation)\n",
    "\n",
    "print(resTest)"
   ]
  },
  {
   "cell_type": "markdown",
   "id": "dda872d1",
   "metadata": {},
   "source": [
    "On peut alors répéter cette procédure « expérience + test » un grand nombre de fois et calculer la proportion de réalisations favorables à A :"
   ]
  },
  {
   "cell_type": "code",
   "execution_count": 3,
   "id": "0b308142",
   "metadata": {},
   "outputs": [
    {
     "name": "stdout",
     "output_type": "stream",
     "text": [
      "Estimation de la probabilité : 0.443\n"
     ]
    }
   ],
   "source": [
    "compteur = 0\n",
    "for i in range(1000):\n",
    "  res = testA(jet2d())\n",
    "  if res == True :\n",
    "    compteur += 1\n",
    "print(\"Estimation de la probabilité : {}\".format(compteur/1000))"
   ]
  },
  {
   "cell_type": "markdown",
   "id": "832bae21",
   "metadata": {},
   "source": [
    "## Exercices pratiques"
   ]
  },
  {
   "cell_type": "markdown",
   "id": "73da02c6",
   "metadata": {},
   "source": [
    "### Simulation répétée de l'expérience et convergence"
   ]
  },
  {
   "cell_type": "markdown",
   "id": "4bbbe49f",
   "metadata": {},
   "source": [
    "Écrire une fonction simulrepExemple(n) qui répète l’expérience de l’exemple _n_ fois et retourne la probabilité estimée.\n",
    "\n",
    "Exemples d’utilisation :"
   ]
  },
  {
   "cell_type": "code",
   "execution_count": 8,
   "id": "58d87049",
   "metadata": {},
   "outputs": [
    {
     "name": "stdout",
     "output_type": "stream",
     "text": [
      "0.3\n",
      "0.43\n",
      "0.447\n",
      "0.4448\n"
     ]
    }
   ],
   "source": [
    "def simulrepExemple(n):\n",
    "    nb_iss_fav = 0\n",
    "    for i in range(n):\n",
    "        res = testA(jet2d())\n",
    "        if res == True:\n",
    "            nb_iss_fav += 1\n",
    "    return nb_iss_fav / n\n",
    "\n",
    "print(simulrepExemple(10))\n",
    "print(simulrepExemple(100))\n",
    "print(simulrepExemple(1000))\n",
    "print(simulrepExemple(10000))"
   ]
  },
  {
   "cell_type": "markdown",
   "id": "cbd47e3f",
   "metadata": {},
   "source": [
    "Pour illustrer la convergence de notre simulation, écrire une fonction convergence(nmax) (écrire une version modifiée de simulationExemple) qui estime la probabilité à chaque itération et retourne la liste des valeurs calculées :"
   ]
  },
  {
   "cell_type": "code",
   "execution_count": 17,
   "id": "ce27b813",
   "metadata": {},
   "outputs": [],
   "source": [
    "def convergence(nmax):\n",
    "    conv=[]\n",
    "    nb_iss_fav = 0\n",
    "    for i in range(nmax):\n",
    "        res = testA(jet2d())\n",
    "        if res == True:\n",
    "            nb_iss_fav += 1\n",
    "        ite = nb_iss_fav / (i+1)\n",
    "        conv.append(ite)\n",
    "    return conv"
   ]
  },
  {
   "cell_type": "markdown",
   "id": "418efb21",
   "metadata": {},
   "source": [
    "Tracer l’évolution de l’estimation :"
   ]
  },
  {
   "cell_type": "code",
   "execution_count": 21,
   "id": "c426dc52",
   "metadata": {},
   "outputs": [
    {
     "data": {
      "image/png": "[encoded data removed]",
      "text/plain": [
       "<Figure size 432x288 with 1 Axes>"
      ]
     },
     "metadata": {
      "needs_background": "light"
     },
     "output_type": "display_data"
    }
   ],
   "source": [
    "import matplotlib.pyplot as plt\n",
    "N = 1000\n",
    "x = list(range(1,N+1))\n",
    "y = convergence(N)\n",
    "plt.figure()\n",
    "plt.plot(x,y)\n",
    "plt.xlabel(\"Nombre de répétitions\")\n",
    "plt.ylabel(\"Probabilité estimée\")\n",
    "plt.title(\"Évolution de l'estimation de la probabilité en fonction du nombre de répétitions de l'expérience aléatoire\")\n",
    "plt.show()"
   ]
  },
  {
   "cell_type": "markdown",
   "id": "d16c4857",
   "metadata": {},
   "source": [
    "### Chapeaux dérangés"
   ]
  },
  {
   "cell_type": "markdown",
   "id": "2b8c763d",
   "metadata": {},
   "source": [
    "Reprendre l’exercice des chapeaux dérangés et écrire une fonction chapeauchapeau(n, nrep) qui estime la probabilité par simulation, cette fois (avec nrep répétitions de l’expérience).\n",
    "\n",
    "Pour écrire la fonction qui réalise l’expérience, on pourra utiliser random.sample() du module random."
   ]
  },
  {
   "cell_type": "code",
   "execution_count": 27,
   "id": "db78b795",
   "metadata": {},
   "outputs": [
    {
     "name": "stdout",
     "output_type": "stream",
     "text": [
      "[1, 4, 3, 2]\n"
     ]
    }
   ],
   "source": [
    "import random\n",
    "print(random.sample([1, 2, 3, 4], 4))"
   ]
  },
  {
   "cell_type": "markdown",
   "id": "961a4e61",
   "metadata": {},
   "source": [
    "Exemple de résultat :"
   ]
  },
  {
   "cell_type": "code",
   "execution_count": 76,
   "id": "416d14db",
   "metadata": {},
   "outputs": [
    {
     "name": "stdout",
     "output_type": "stream",
     "text": [
      "0.3692\n",
      "0.36667\n",
      "0.368784\n"
     ]
    }
   ],
   "source": [
    "import itertools\n",
    "\n",
    "def chapeauchapeau(n, nrep):\n",
    "    n_lst=[]\n",
    "    nb_iss_fav=0\n",
    "    for i in range(n):\n",
    "        n_lst.append(i)\n",
    "    for i in range(nrep):\n",
    "        issue=random.sample(n_lst, n)\n",
    "        TF = False\n",
    "        for elt in range(len(issue)):\n",
    "            if issue[elt] == elt:\n",
    "                TF = True\n",
    "        if TF == False:\n",
    "            nb_iss_fav += 1\n",
    "    proba = nb_iss_fav / nrep\n",
    "    return proba\n",
    "\n",
    "print(chapeauchapeau(6, 10000))\n",
    "print(chapeauchapeau(6, 100000))\n",
    "print(chapeauchapeau(6, 1000000))\n",
    "\n",
    "#Dans la fonction chapeaux() on calculait la probabilité en étudiant tous les cas possibles\n",
    "#Alors qu'ici on calcule la probabilité parmi n itérations aléatoires"
   ]
  },
  {
   "cell_type": "markdown",
   "id": "35639bf0",
   "metadata": {},
   "source": [
    "### Jeu de dès"
   ]
  },
  {
   "cell_type": "markdown",
   "id": "ca24f382",
   "metadata": {},
   "source": [
    "On dispose de quatre dés équilibrés à 120 faces. On les lance.\n",
    "\n",
    "Quelle est la probabilité d’obtenir :\n",
    "\n",
    "   - au moins un multiple de 21 ou au moins deux multiples de 9 ?\n",
    "   - exactement deux paires ?\n"
   ]
  },
  {
   "cell_type": "code",
   "execution_count": 223,
   "id": "05b2630c",
   "metadata": {},
   "outputs": [
    {
     "name": "stdout",
     "output_type": "stream",
     "text": [
      "0.244568\n",
      "0.000218\n"
     ]
    }
   ],
   "source": [
    "def des_120(nrep):\n",
    "    lst=[]\n",
    "    nb_iss_fav = 0\n",
    "    for i in range(nrep):\n",
    "        issue=[]\n",
    "        for a in range(4):\n",
    "            issue.append(random.randint(1, 120))\n",
    "        Condition1 = False\n",
    "        Condition2 = False\n",
    "        deux_9 = 0\n",
    "        for elt in issue:\n",
    "            if elt%21==0:\n",
    "                Condition1 = True\n",
    "        for elt2 in issue:\n",
    "            if elt%9==0:\n",
    "                deux_9 += 1\n",
    "        if deux_9 >= 2:\n",
    "            Condition2 = True\n",
    "        if Condition1 or Condition2:\n",
    "            nb_iss_fav += 1\n",
    "    proba = nb_iss_fav / nrep\n",
    "    return proba\n",
    "\n",
    "def des_120_2(nrep):\n",
    "    lst=[]\n",
    "    nb_iss_fav = 0\n",
    "    for i in range(nrep):\n",
    "        issue=[]\n",
    "        for a in range(4):\n",
    "            issue.append(random.randint(1, 120))\n",
    "        tirage_tri=sorted(issue)\n",
    "        if tirage_tri[0] == tirage_tri[1] and tirage_tri[2] == tirage_tri[3]:\n",
    "            nb_iss_fav += 1\n",
    "    proba = nb_iss_fav / nrep\n",
    "    return proba\n",
    "\n",
    "print(des_120(500000))\n",
    "print(des_120_2(500000))"
   ]
  },
  {
   "cell_type": "markdown",
   "id": "1a5a1322",
   "metadata": {},
   "source": [
    "### « Paradoxe » des anniversaires"
   ]
  },
  {
   "cell_type": "markdown",
   "id": "e383a35d",
   "metadata": {},
   "source": [
    "On considère un groupe de n personnes (toutes nées lors d’une année non bissextile) et on s’intéresse à leur date anniversaire. Plus précisément on s’intéresse à la probabilité qu’au moins deux d’entre eux aient leur anniversaire le même jour.\n",
    "\n",
    "On représente chaque jour anniversaire possible par un entier entre 1 et 365 :"
   ]
  },
  {
   "cell_type": "code",
   "execution_count": 99,
   "id": "bd2321ac",
   "metadata": {},
   "outputs": [],
   "source": [
    "jours = range(1, 366)"
   ]
  },
  {
   "cell_type": "markdown",
   "id": "85719cb0",
   "metadata": {},
   "source": [
    "On veut déterminer une estimation de la probabilité qu’au moins deux d’entre eux aient leur anniversaire le même jour."
   ]
  },
  {
   "cell_type": "markdown",
   "id": "00108e27",
   "metadata": {},
   "source": [
    "__Simulation répétée__"
   ]
  },
  {
   "cell_type": "markdown",
   "id": "bdf469d6",
   "metadata": {},
   "source": [
    "1. Écrire une fonction tirage(n) qui génère n dates d’anniversaire.\n",
    "\n",
    "2. Pour déterminer, par approximation, la probabilité qu’au moins deux dates soient identiques :\n",
    "    - écrire une fonction test(x) qui retourne True lorsque deux élements sont identiques dans la liste x, False sinon\n",
    "    - écrire la fonction probA(n,nrep) (ou n est le nombre de personnes, et nrep le nombre de répétitions de l’expérience) qui effectue le calcul suivant :\n",
    "\n",
    "        - initialiser count à 0 répéter nrep fois : experience <- tirage(n)\n",
    "        - si test(experience) retourne TRUE incrémenter count\n",
    "\n",
    "    - retourner count / nrep\n",
    "    \n",
    "    \n",
    "3. Lancer la fonction probA pour n = 10 et nrep = 1000 . Quelle est la probabilité que deux personnes au moins aient même jour anniversaire ?\n",
    "\n",
    "4. Trouver la valeur de n à partir de laquelle la probabilité que deux personnes aient même jour anniversaire soit supérieure à 0,5."
   ]
  },
  {
   "cell_type": "code",
   "execution_count": 155,
   "id": "73e95a7d",
   "metadata": {},
   "outputs": [
    {
     "name": "stdout",
     "output_type": "stream",
     "text": [
      "[151, 62, 297, 227, 158, 191, 272, 75, 32, 150, 103, 188, 238, 335, 30, 112, 307, 154, 83, 113]\n"
     ]
    }
   ],
   "source": [
    "def tirage(n):\n",
    "    ann=[]\n",
    "    for i in range(n):\n",
    "        ann.append(random.randint(1, 366))\n",
    "    return ann\n",
    "\n",
    "print(tirage(20))"
   ]
  },
  {
   "cell_type": "code",
   "execution_count": 170,
   "id": "ae46ea4a",
   "metadata": {},
   "outputs": [
    {
     "name": "stdout",
     "output_type": "stream",
     "text": [
      "[94, 288, 299, 49, 357, 26, 219, 250, 323, 336, 78, 291, 44, 73, 75, 264, 342, 342, 189, 46]\n",
      "True\n"
     ]
    }
   ],
   "source": [
    "def test(x):\n",
    "    res = False\n",
    "    for i in x:\n",
    "        if x.count(i)>1:\n",
    "            res= True\n",
    "    return res\n",
    "\n",
    "test1=tirage(20)\n",
    "print(test1)\n",
    "print(test(test1))"
   ]
  },
  {
   "cell_type": "code",
   "execution_count": 220,
   "id": "ce4eeb3b",
   "metadata": {},
   "outputs": [
    {
     "name": "stdout",
     "output_type": "stream",
     "text": [
      "Probabilité de 0.5 à partir de 22 personnes\n",
      "0.115\n"
     ]
    }
   ],
   "source": [
    "def probA(n, nrep):\n",
    "    count=0\n",
    "    for i in range(nrep):\n",
    "        experience=tirage(n)\n",
    "        if test(experience) == True:\n",
    "            count += 1\n",
    "    return count/nrep\n",
    "\n",
    "n=2\n",
    "while probA(n,1000)<0.5:\n",
    "    n+=1\n",
    "print (\"Probabilité de 0.5 à partir de\", n, \"personnes\")\n",
    "\n",
    "print(probA(10, 1000))"
   ]
  },
  {
   "cell_type": "markdown",
   "id": "5b502286",
   "metadata": {},
   "source": [
    "### Estimation de Pi"
   ]
  },
  {
   "cell_type": "markdown",
   "id": "77ba92f7",
   "metadata": {},
   "source": [
    "On considère l’expérience aléatoire suivante : on prend aléatoirement un point dans un carré de côté 2 (unités quelconques). On considère alors l’événement « le point est dans le cercle inscrit dans le carré ».\n",
    "\n",
    "-    Quelle est la probabilité de A ?\n",
    "-    Déterminer cette probabilité par simulation.\n",
    "-    En déduire une estimation de Pi.\n",
    "\n",
    "Video d’illustration"
   ]
  },
  {
   "cell_type": "code",
   "execution_count": 243,
   "id": "520638cc",
   "metadata": {},
   "outputs": [
    {
     "name": "stdout",
     "output_type": "stream",
     "text": [
      "3.13176\n"
     ]
    }
   ],
   "source": [
    "def EstPi(nPoints):\n",
    "    count=0\n",
    "    for i in range(nPoints):\n",
    "        M=[]\n",
    "        M.append(random.uniform(-1,1))\n",
    "        M.append(random.uniform(-1,1))\n",
    "        if M[0]**2 + M[1]**2 <= 1:\n",
    "            count+=1\n",
    "    return count/nPoints*4\n",
    "          #Proba M dans C du Carré * 4 = Pi\n",
    "\n",
    "print(EstPi(100000))"
   ]
  },
  {
   "cell_type": "code",
   "execution_count": null,
   "id": "c77eac1c",
   "metadata": {},
   "outputs": [],
   "source": []
  }
 ],
 "metadata": {
  "kernelspec": {
   "display_name": "Python 3 (ipykernel)",
   "language": "python",
   "name": "python3"
  },
  "language_info": {
   "codemirror_mode": {
    "name": "ipython",
    "version": 3
   },
   "file_extension": ".py",
   "mimetype": "text/x-python",
   "name": "python",
   "nbconvert_exporter": "python",
   "pygments_lexer": "ipython3",
   "version": "3.8.10"
  }
 },
 "nbformat": 4,
 "nbformat_minor": 5
}
