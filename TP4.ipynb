{
 "cells": [
  {
   "cell_type": "markdown",
   "id": "178511ca",
   "metadata": {},
   "source": [
    "# Variables aléatoires discrètes"
   ]
  },
  {
   "cell_type": "markdown",
   "id": "8cf596c4",
   "metadata": {},
   "source": [
    "## 1 Exemple introductif"
   ]
  },
  {
   "cell_type": "markdown",
   "id": "4089f98c",
   "metadata": {},
   "source": [
    "On considère le jeu suivant : « on lance deux dés équilibrés. On gagne le montant indiqué par la somme des deux dés.»\n",
    "\n",
    "Appelons X la variable aléatoire du montant gagné."
   ]
  },
  {
   "cell_type": "markdown",
   "id": "cd83f8c0",
   "metadata": {},
   "source": [
    "### 1.1 Calculs exacts"
   ]
  },
  {
   "cell_type": "markdown",
   "id": "dd87c136",
   "metadata": {},
   "source": [
    "Déterminons les gains pour toutes les issues possibles :"
   ]
  },
  {
   "cell_type": "code",
   "execution_count": 1,
   "id": "4a74a483",
   "metadata": {},
   "outputs": [
    {
     "name": "stdout",
     "output_type": "stream",
     "text": [
      "[2, 3, 4, 5, 6, 7, 3, 4, 5, 6, 7, 8, 4, 5, 6, 7, 8, 9, 5, 6, 7, 8, 9, 10, 6, 7, 8, 9, 10, 11, 7, 8, 9, 10, 11, 12]\n"
     ]
    }
   ],
   "source": [
    "gains = []\n",
    "for de1 in range(1,6+1):\n",
    "    for de2 in range(1,6+1):\n",
    "        gains.append(de1+de2)\n",
    "\n",
    "print(gains)"
   ]
  },
  {
   "cell_type": "markdown",
   "id": "4172dd03",
   "metadata": {},
   "source": [
    "Déterminons la loi de probabilité :"
   ]
  },
  {
   "cell_type": "code",
   "execution_count": 2,
   "id": "cf1260c2",
   "metadata": {},
   "outputs": [
    {
     "name": "stdout",
     "output_type": "stream",
     "text": [
      "[(2, 0.027777777777777776), (3, 0.05555555555555555), (4, 0.08333333333333333), (5, 0.1111111111111111), (6, 0.1388888888888889), (7, 0.16666666666666666), (8, 0.1388888888888889), (9, 0.1111111111111111), (10, 0.08333333333333333), (11, 0.05555555555555555), (12, 0.027777777777777776)]\n"
     ]
    }
   ],
   "source": [
    "import numpy as np\n",
    "omegax = list(range(2,12+1))\n",
    "loi = []\n",
    "for k in omegax:\n",
    "    pk = gains.count(k) / len(gains)\n",
    "    loi.append((k,pk))\n",
    "print(loi)"
   ]
  },
  {
   "cell_type": "markdown",
   "id": "6a93a93e",
   "metadata": {},
   "source": [
    "Calcul de l’espérance :"
   ]
  },
  {
   "cell_type": "code",
   "execution_count": 3,
   "id": "9aebeae2",
   "metadata": {},
   "outputs": [
    {
     "name": "stdout",
     "output_type": "stream",
     "text": [
      "6.999999999999999\n"
     ]
    }
   ],
   "source": [
    "esperance = 0\n",
    "for (k,pk) in loi:\n",
    "    esperance += k * pk\n",
    "print(esperance)"
   ]
  },
  {
   "cell_type": "markdown",
   "id": "21833a3c",
   "metadata": {},
   "source": [
    "Calcul de la variance :"
   ]
  },
  {
   "cell_type": "code",
   "execution_count": 4,
   "id": "6574e7b7",
   "metadata": {},
   "outputs": [
    {
     "name": "stdout",
     "output_type": "stream",
     "text": [
      "5.833333333333336\n"
     ]
    }
   ],
   "source": [
    "variance = 0\n",
    "for (k,pk) in loi:\n",
    "    variance = variance + (k ** 2) * pk\n",
    "variance = variance - esperance ** 2\n",
    "print(variance)"
   ]
  },
  {
   "cell_type": "markdown",
   "id": "adb7b52b",
   "metadata": {},
   "source": [
    "### 1.2 Simulation"
   ]
  },
  {
   "cell_type": "markdown",
   "id": "6939ff5c",
   "metadata": {},
   "source": [
    "Imaginons maintenant que nous nous intéressions à la somme de 10 dés. L’énumération des 60466176 issues possibles est un peu laborieuse, même avec itertools. Nous allons donc utiliser la simulation.\n",
    "\n",
    "Soit X la variable aléatoire qui associe à une issue, la somme des dés qui la composent.\n",
    "\n",
    "**Loi de probabilité**\n",
    "\n",
    "Les valeurs que peut prendre X sont les suivantes : 10,11,...,59,60.\n",
    "\n",
    "Nous allons estimer la probabilité que X prenne chacune de ces valeurs.\n",
    "\n",
    "On considère la fonction simulation_experience() qui simule le lancer de dix dés à six faces."
   ]
  },
  {
   "cell_type": "code",
   "execution_count": 5,
   "id": "d7437ca2",
   "metadata": {},
   "outputs": [],
   "source": [
    "import random\n",
    "\n",
    "def simulation_experience():\n",
    "    return random.choices([1, 2, 3, 4, 5, 6], k=10)"
   ]
  },
  {
   "cell_type": "markdown",
   "id": "65e8a70a",
   "metadata": {},
   "source": [
    "On définit la fonction associée à X :"
   ]
  },
  {
   "cell_type": "code",
   "execution_count": 6,
   "id": "a37dc097",
   "metadata": {},
   "outputs": [],
   "source": [
    "def fun_X(des):\n",
    "    return sum(des)"
   ]
  },
  {
   "cell_type": "markdown",
   "id": "fa68024e",
   "metadata": {},
   "source": [
    "On écrit enfin la fonction simulation_repetee(exp, X, nrep) qui répète rep fois, indépendamment, l’expérience définie dans la fonction exp, et calcule, à chaque répétition, la valeur de la variable aléatoire en utilisant la fonction X. Cette fonction retourne la liste des valeurs calculées."
   ]
  },
  {
   "cell_type": "code",
   "execution_count": 7,
   "id": "ffd83291",
   "metadata": {},
   "outputs": [],
   "source": [
    "def simulation_repetee(exp, X, nrep):\n",
    "    return [X(exp()) for _ in range(nrep)]"
   ]
  },
  {
   "cell_type": "markdown",
   "id": "97b5eb19",
   "metadata": {},
   "source": [
    "On peut alors définir des fonctions d’estimation de loi de probabilité et de calcul d’espérance/variance :"
   ]
  },
  {
   "cell_type": "code",
   "execution_count": 8,
   "id": "6d3390c7",
   "metadata": {},
   "outputs": [],
   "source": [
    "import random\n",
    "import numpy\n",
    "\n",
    "def estimation_loi(valeurs_obtenues, valeurs_possibles):\n",
    "    # Ensemble des valeurs différentes possibles\n",
    "    # prises par la variable aléatoire\n",
    "    omegax = valeurs_possibles\n",
    "    # On calcule ensuite le nombre de fois où chaque\n",
    "    # valeur de Omega_X apparait dans l'ensemble des valeurs \n",
    "    # que l'on divise par le nombre de répétitions (i.e. le nombre de valeurs)\n",
    "    res = []\n",
    "    for k in omegax :\n",
    "        res.append((k, valeurs_obtenues.count(k) / len(valeurs_obtenues)))\n",
    "    return res"
   ]
  },
  {
   "cell_type": "markdown",
   "id": "c9bd3471",
   "metadata": {},
   "source": [
    "Exemple :"
   ]
  },
  {
   "cell_type": "code",
   "execution_count": 9,
   "id": "eb16bb29",
   "metadata": {},
   "outputs": [
    {
     "name": "stdout",
     "output_type": "stream",
     "text": [
      "[(10, 0.0), (11, 0.0), (12, 0.0), (13, 0.0), (14, 0.0), (15, 0.0), (16, 0.0), (17, 0.0), (18, 0.0), (19, 0.0), (20, 0.003), (21, 0.002), (22, 0.006), (23, 0.01), (24, 0.016), (25, 0.015), (26, 0.018), (27, 0.029), (28, 0.041), (29, 0.041), (30, 0.049), (31, 0.058), (32, 0.055), (33, 0.066), (34, 0.073), (35, 0.057), (36, 0.056), (37, 0.071), (38, 0.069), (39, 0.06), (40, 0.047), (41, 0.043), (42, 0.033), (43, 0.025), (44, 0.021), (45, 0.011), (46, 0.012), (47, 0.005), (48, 0.003), (49, 0.003), (50, 0.002), (51, 0.0), (52, 0.0), (53, 0.0), (54, 0.0), (55, 0.0), (56, 0.0), (57, 0.0), (58, 0.0), (59, 0.0), (60, 0.0)]\n"
     ]
    }
   ],
   "source": [
    "valeurs_simulees = simulation_repetee(simulation_experience, fun_X, 1000)\n",
    "loi = estimation_loi(valeurs_simulees, list(range(10,60+1)))\n",
    "print(loi)"
   ]
  },
  {
   "cell_type": "markdown",
   "id": "e55efef1",
   "metadata": {},
   "source": [
    "Représentation graphique de cette loi :"
   ]
  },
  {
   "cell_type": "code",
   "execution_count": 10,
   "id": "ae268d49",
   "metadata": {},
   "outputs": [],
   "source": [
    "import matplotlib\n",
    "import matplotlib.pyplot as plt"
   ]
  },
  {
   "cell_type": "code",
   "execution_count": 11,
   "id": "7d41356c",
   "metadata": {},
   "outputs": [
    {
     "data": {
      "image/png": "[encoded data removed]",
      "text/plain": [
       "<Figure size 432x288 with 1 Axes>"
      ]
     },
     "metadata": {
      "needs_background": "light"
     },
     "output_type": "display_data"
    }
   ],
   "source": [
    "x = []\n",
    "y = []\n",
    "for (k,pk) in loi :\n",
    "    x.append(k)\n",
    "    y.append(pk)\n",
    "plt.figure()\n",
    "plt.bar(x,height = y, width = 0.2)\n",
    "plt.xlabel(\"k\")\n",
    "plt.ylabel(\"P(X=k)\")\n",
    "plt.show()"
   ]
  },
  {
   "cell_type": "markdown",
   "id": "c9b9a505",
   "metadata": {},
   "source": [
    "**Cas où OmegaX est difficile à déterminer**\n",
    "\n",
    "Lorsque OmegaX est difficile à déterminer on ne peut le reconstruire qu’en observant les différentes obtenues par simulation.\n",
    "\n",
    "Cependant il arrive que certaines valeurs -possibles mais rares- de X, n’apparaissent pas. Les événements associés étant plutôt exceptionnels, ils ont pu « échapper » à notre simulation.\n",
    "\n",
    "Il est donc nécessaire d’effectuer un nombre très important de répétitions afin de « couvrir » le mieux possible OmegaX (sans certitude d’obtenir l’ensemble des valeurs possibles).\n",
    "\n",
    "Pour reconstruire OmegaX, on pourra utiliser la très pratique fonction unique() de numpy et modifier la fonction estimation_loi() :"
   ]
  },
  {
   "cell_type": "code",
   "execution_count": 12,
   "id": "8e5a8517",
   "metadata": {},
   "outputs": [],
   "source": [
    "def estimation_loi(valeurs_obtenues, valeurs_possibles = None):\n",
    "    # On détermine Omega_X\n",
    "    if valeurs_possibles is None :\n",
    "        omegax = numpy.unique(valeurs_obtenues)\n",
    "    else :\n",
    "        omegax = valeurs_possibles\n",
    "    # On calcule ensuite le nombre de fois où chaque\n",
    "    # valeur de Omega_X apparait dans l'ensemble des valeurs \n",
    "    # que l'on divise par le nombre de répétitions (i.e. le nombre de valeurs)\n",
    "    res = []\n",
    "    for k in omegax :\n",
    "        res.append((k, valeurs_obtenues.count(k) / len(valeurs_obtenues)))\n",
    "    return res"
   ]
  },
  {
   "cell_type": "markdown",
   "id": "7f834fa1",
   "metadata": {},
   "source": [
    "Exemple :"
   ]
  },
  {
   "cell_type": "code",
   "execution_count": 13,
   "id": "f45e1328",
   "metadata": {},
   "outputs": [
    {
     "name": "stdout",
     "output_type": "stream",
     "text": [
      "[(16, 0.0001), (18, 0.0002), (19, 0.0008), (20, 0.0015), (21, 0.0028), (22, 0.0037), (23, 0.0057), (24, 0.0093), (25, 0.0119), (26, 0.018), (27, 0.0288), (28, 0.029), (29, 0.0379), (30, 0.0447), (31, 0.0558), (32, 0.0632), (33, 0.0654), (34, 0.0715), (35, 0.0744), (36, 0.0675), (37, 0.0685), (38, 0.0674), (39, 0.0542), (40, 0.051), (41, 0.0459), (42, 0.0355), (43, 0.0263), (44, 0.0188), (45, 0.0136), (46, 0.0096), (47, 0.0073), (48, 0.0049), (49, 0.0025), (50, 0.0007), (51, 0.0012), (52, 0.0003), (54, 0.0001)]\n"
     ]
    }
   ],
   "source": [
    "valeurs_simulees = simulation_repetee(simulation_experience, fun_X, 10000)\n",
    "loi = estimation_loi(valeurs_simulees)\n",
    "print(loi)"
   ]
  },
  {
   "cell_type": "markdown",
   "id": "75a1755d",
   "metadata": {},
   "source": [
    "Affichage :"
   ]
  },
  {
   "cell_type": "code",
   "execution_count": 14,
   "id": "deb1c891",
   "metadata": {},
   "outputs": [
    {
     "data": {
      "image/png": "[encoded data removed]",
      "text/plain": [
       "<Figure size 432x288 with 1 Axes>"
      ]
     },
     "metadata": {
      "needs_background": "light"
     },
     "output_type": "display_data"
    }
   ],
   "source": [
    "x = []\n",
    "y = []\n",
    "for (k,pk) in loi :\n",
    "    x.append(k)\n",
    "    y.append(pk)\n",
    "plt.figure()\n",
    "plt.bar(x,height = y, width = 0.2)\n",
    "plt.xlabel(\"k\")\n",
    "plt.ylabel(\"P(X=k)\")\n",
    "plt.show()"
   ]
  },
  {
   "cell_type": "markdown",
   "id": "fa704dac",
   "metadata": {},
   "source": [
    "## 2 Exercices"
   ]
  },
  {
   "cell_type": "markdown",
   "id": "56402a9c",
   "metadata": {},
   "source": [
    "### 2.1 5000 simplifié"
   ]
  },
  {
   "cell_type": "markdown",
   "id": "9ea3a097",
   "metadata": {},
   "source": [
    "On jette 5 dés. On gagne alors un nombre de points correspondant à la somme des points que chaque dé rapporte :\n",
    "\n",
    "    As : 100 points\n",
    "    5 : 50 points\n",
    "    2,3,4,6 : 0 point\n",
    "\n",
    "Soit X la v.a. du nombre de points obtenus en lançant une fois les 5 dés.\n",
    "\n",
    "1. Déterminer la loi de probabilité de X\n",
    "2. Déterminer l’espérance de X\n",
    "3. Déterminer la variance de X"
   ]
  },
  {
   "cell_type": "code",
   "execution_count": 33,
   "id": "17880cfd",
   "metadata": {},
   "outputs": [
    {
     "name": "stdout",
     "output_type": "stream",
     "text": [
      "[(0, 0.115), (50, 0.166), (100, 0.256), (150, 0.184), (200, 0.141), (250, 0.078), (300, 0.041), (350, 0.012), (400, 0.006), (450, 0.001), (500, 0.0)]\n",
      "128.54999999999998\n",
      "7427.397500000003\n",
      "None\n"
     ]
    }
   ],
   "source": [
    "def cinqmille(X):\n",
    "    gains=[]\n",
    "    for i in range(X):\n",
    "        compte=0\n",
    "        for nb_des in range(5):\n",
    "            de = random.randint(1,6)\n",
    "            if de == 1:\n",
    "                compte += 100\n",
    "            if de == 5:\n",
    "                compte += 50\n",
    "        gains.append(compte)\n",
    "    #print(gains)\n",
    "\n",
    "    omegax = list(range(0,500+1,50)) #Anticipation des valeurs possibles\n",
    "    loi = []\n",
    "    for k in omegax:\n",
    "        pk = gains.count(k) / len(gains)\n",
    "        loi.append((k,pk)) #Valeurs possible, nb d'obtenus en X coups\n",
    "    print(loi)\n",
    "    \n",
    "    esperance = 0\n",
    "    for (k,pk) in loi:\n",
    "        esperance += k * pk\n",
    "    print(esperance)\n",
    "    \n",
    "    variance = 0\n",
    "    for (k,pk) in loi:\n",
    "        variance += (k ** 2) * pk\n",
    "    variance -= esperance ** 2\n",
    "    print(variance)\n",
    "    \n",
    "    return None\n",
    "\n",
    "print(cinqmille(1000))"
   ]
  },
  {
   "cell_type": "code",
   "execution_count": 32,
   "id": "d01b34d2",
   "metadata": {},
   "outputs": [
    {
     "name": "stdout",
     "output_type": "stream",
     "text": [
      "[(0, 0.114), (50, 0.175), (100, 0.262), (150, 0.184), (200, 0.139), (250, 0.068), (300, 0.044), (350, 0.007), (400, 0.006), (450, 0.001)]\n",
      "125.85000000000001\n",
      "7149.277499999998\n",
      "None\n"
     ]
    }
   ],
   "source": [
    "def cinqmilleV2(X):\n",
    "    gains=[]\n",
    "    for i in range(X):\n",
    "        compte=0\n",
    "        for nb_des in range(5):\n",
    "            de = random.randint(1,6)\n",
    "            if de == 1:\n",
    "                compte += 100\n",
    "            if de == 5:\n",
    "                compte += 50\n",
    "        gains.append(compte)\n",
    "    #print(gains)\n",
    "\n",
    "    omegax = np.unique(gains) #Valeurs obtenues\n",
    "    loi = []\n",
    "    for k in omegax:\n",
    "        pk = gains.count(k) / len(gains)\n",
    "        loi.append((k,pk))\n",
    "    print(loi)\n",
    "    \n",
    "    esperance = 0\n",
    "    for (k,pk) in loi:\n",
    "        esperance += k * pk\n",
    "    print(esperance)\n",
    "    \n",
    "    variance = 0\n",
    "    for (k,pk) in loi:\n",
    "        variance += (k ** 2) * pk\n",
    "    variance -= esperance ** 2\n",
    "    print(variance)\n",
    "    \n",
    "    return None\n",
    "\n",
    "print(cinqmilleV2(1000))"
   ]
  },
  {
   "cell_type": "markdown",
   "id": "8ec09d21",
   "metadata": {},
   "source": [
    "### 2.2 Sanction pifométrique"
   ]
  },
  {
   "cell_type": "markdown",
   "id": "30384644",
   "metadata": {},
   "source": [
    "Un enseignant excédé par le bruit dans un amphi décide de punir aléatoirement un étudiant (de la promo constituée de 110 individus) chaque semaine. On sait que 90% des étudiants bavardent en amphi. On suppose que chaque semaine, l’enseignant ne tient pas compte de l’historique dans son tirage aléatoire. L’enseignant applique ce système de sanction pendant 13 semaines. On désigne par X le nombre de punitions « à tort ».\n",
    "\n",
    "1. En procédant par simulation, déterminer la table de la loi de probabilité de X\n",
    "2. Son espérance.\n",
    "3. Sa variance."
   ]
  },
  {
   "cell_type": "code",
   "execution_count": 130,
   "id": "e7066ead",
   "metadata": {},
   "outputs": [
    {
     "name": "stdout",
     "output_type": "stream",
     "text": [
      "[(0, 0.9056923076923077), (1, 0.09430769230769231)]\n",
      "0.09430769230769231\n",
      "0.08541375147928995\n",
      "None\n"
     ]
    }
   ],
   "source": [
    "def sanctionPi(X):\n",
    "    gains=[]\n",
    "    for y in range(X):\n",
    "        for i in range(13):\n",
    "            compte = 0\n",
    "            tirage = np.random.choice(['bavardeur','calme'], 1, replace = True, p=[0.9,0.1])\n",
    "            if tirage == 'calme':\n",
    "                compte = 1 #à tort\n",
    "            gains.append(compte)\n",
    "    #print(gains)\n",
    "        \n",
    "    omegax = np.unique(gains)\n",
    "    loi = []\n",
    "    for k in omegax:\n",
    "        pk = gains.count(k) / len(gains)\n",
    "        loi.append((k,pk))\n",
    "    print(loi)\n",
    "    \n",
    "    esperance = 0\n",
    "    for (k,pk) in loi:\n",
    "        esperance += k * pk\n",
    "    print(esperance)\n",
    "    \n",
    "    variance = 0\n",
    "    for (k,pk) in loi:\n",
    "        variance += (k ** 2) * pk\n",
    "    variance -= esperance ** 2\n",
    "    print(variance)\n",
    "    \n",
    "    return None\n",
    "        \n",
    "print(sanctionPi(1000))"
   ]
  },
  {
   "cell_type": "markdown",
   "id": "963b7911",
   "metadata": {},
   "source": [
    "### 2.3 Sanction pifométrique améliorée"
   ]
  },
  {
   "cell_type": "markdown",
   "id": "1d44a96a",
   "metadata": {},
   "source": [
    "L’année suivante l’enseignant décide de tenir compte de l’historique des santions. Il retire donc, lors de son tirage hebdomadaire, les élèves déjà sanctionnés les semaines précédentes. On désigne par Y le nombre de punitions « à tort ».\n",
    "\n",
    "1. En procédant par simulation, déterminer la table de la loi de probabilité de Y\n",
    "2. Son espérance.\n",
    "3. Sa variance."
   ]
  },
  {
   "cell_type": "code",
   "execution_count": 129,
   "id": "f8af702c",
   "metadata": {},
   "outputs": [
    {
     "name": "stdout",
     "output_type": "stream",
     "text": [
      "[(0, 0.8938461538461538), (1, 0.10615384615384615)]\n",
      "0.10615384615384615\n",
      "0.09488520710059171\n",
      "None\n"
     ]
    }
   ],
   "source": [
    "import random\n",
    "\n",
    "def sanctionPiV2(Y):\n",
    "    gains=[]\n",
    "    eleves=[]\n",
    "    for y in range(Y):\n",
    "        for elt in range(1,111):\n",
    "            eleves.append(elt)\n",
    "        for i in range(13):\n",
    "            compte = 0\n",
    "            rand_idx = random.randint(0, len(eleves)-1)\n",
    "            if eleves[rand_idx] >= 100:\n",
    "                compte = 1 #à tort\n",
    "            eleves.pop(rand_idx)\n",
    "            gains.append(compte)\n",
    "    #print(gains)\n",
    "    \n",
    "    omegax = np.unique(gains)\n",
    "    loi = []\n",
    "    for k in omegax:\n",
    "        pk = gains.count(k) / len(gains)\n",
    "        loi.append((k,pk))\n",
    "    print(loi)\n",
    "    \n",
    "    esperance = 0\n",
    "    for (k,pk) in loi:\n",
    "        esperance += k * pk\n",
    "    print(esperance)\n",
    "    \n",
    "    variance = 0\n",
    "    for (k,pk) in loi:\n",
    "        variance += (k ** 2) * pk\n",
    "    variance -= esperance ** 2\n",
    "    print(variance)\n",
    "    \n",
    "    return None\n",
    "\n",
    "print(sanctionPiV2(100))"
   ]
  },
  {
   "cell_type": "code",
   "execution_count": null,
   "id": "84c4e5d8",
   "metadata": {},
   "outputs": [],
   "source": []
  }
 ],
 "metadata": {
  "kernelspec": {
   "display_name": "Python 3 (ipykernel)",
   "language": "python",
   "name": "python3"
  },
  "language_info": {
   "codemirror_mode": {
    "name": "ipython",
    "version": 3
   },
   "file_extension": ".py",
   "mimetype": "text/x-python",
   "name": "python",
   "nbconvert_exporter": "python",
   "pygments_lexer": "ipython3",
   "version": "3.8.10"
  }
 },
 "nbformat": 4,
 "nbformat_minor": 5
}
